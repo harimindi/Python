{
 "cells": [
  {
   "cell_type": "code",
   "execution_count": 1,
   "metadata": {
    "collapsed": true
   },
   "outputs": [],
   "source": [
    "import re\n",
    "from datetime import datetime"
   ]
  },
  {
   "cell_type": "code",
   "execution_count": 30,
   "metadata": {},
   "outputs": [
    {
     "name": "stdout",
     "output_type": "stream",
     "text": [
      "15\n"
     ]
    }
   ],
   "source": [
    "s = '''1. BABU\n",
    "2. NAVEEN\n",
    "\n",
    "3. 06.05.1985 INDIA\n",
    "\n",
    "“4a. 20.06.2017 4c. DVLA\n",
    "\n",
    "4b. 20.11.2025\n",
    "\n",
    "5 BABUS805065N99DZ 28\n",
    "\n",
    "N Z\n",
    "\n",
    "Wwaw\n",
    "'''\n",
    "print(len(s.split('\\n')))"
   ]
  },
  {
   "cell_type": "code",
   "execution_count": 31,
   "metadata": {},
   "outputs": [
    {
     "name": "stdout",
     "output_type": "stream",
     "text": [
      "1. BABU\n",
      "2. NAVEEN\n",
      "3. 06.05.1985 INDIA\n",
      "“4a. 20.06.2017 4c. DVLA\n",
      "4b. 20.11.2025\n",
      "5 BABUS805065N99DZ 28\n",
      "N Z\n",
      "Wwaw\n",
      " 109\n"
     ]
    }
   ],
   "source": [
    "s = s.replace('\\n\\n','\\n')\n",
    "print(s, len(s))"
   ]
  },
  {
   "cell_type": "code",
   "execution_count": 32,
   "metadata": {},
   "outputs": [
    {
     "name": "stdout",
     "output_type": "stream",
     "text": [
      "['1. BABU', '2. NAVEEN', '3. 06.05.1985 INDIA', '“4a. 20.06.2017 4c. DVLA', '4b. 20.11.2025', '5 BABUS805065N99DZ 28', 'N Z', 'Wwaw', '']\n"
     ]
    }
   ],
   "source": [
    "s = s.split('\\n')\n",
    "print(s)"
   ]
  },
  {
   "cell_type": "code",
   "execution_count": 33,
   "metadata": {},
   "outputs": [
    {
     "name": "stdout",
     "output_type": "stream",
     "text": [
      "MEREDYTH\n"
     ]
    }
   ],
   "source": [
    "#lastname = ''.join(re.findall('[A-Z]',s[0]))\n",
    "#firstname = ''.join(re.findall('[A-Z\\s]',s[1]))\n",
    "match = re.search('\\d',s[2]) #check if 3rd line has middlename \n",
    "if not match:\n",
    "    #print('There are Digits')\n",
    "    middlename = s.pop(2)\n",
    "    middlename = ''.join(re.findall('[A-Z\\s]',middlename))\n",
    "print (middlename)\n"
   ]
  },
  {
   "cell_type": "code",
   "execution_count": 34,
   "metadata": {},
   "outputs": [
    {
     "name": "stdout",
     "output_type": "stream",
     "text": [
      "LastName: BABU\n",
      "FirstName:  NAVEEN MEREDYTH\n",
      "Date of Birth: 06-05-1985\n",
      "Country: INDIA\n",
      "Date of Issue: 20-06-2017\n",
      "Date of Expiry: 20-11-2025\n",
      "DL Number: BABUS805065N99DZ 28\n"
     ]
    }
   ],
   "source": [
    "lastname = ''.join(re.findall('[A-Z]',s[0]))\n",
    "firstname = ''.join(re.findall('[A-Z\\s]',s[1]))\n",
    "if middlename:\n",
    "    firstname = firstname + ' ' + middlename\n",
    "\n",
    "dob_match = re.search(r'\\d{2}.\\d{2}.\\d{4}', s[2])\n",
    "dob = datetime.strptime(dob_match.group(), '%d.%m.%Y').strftime('%d-%m-%Y')\n",
    "\n",
    "char_pos,_ = re.search('[A-Z]', s[2]).span(0)\n",
    "country = s[2][char_pos:]\n",
    "\n",
    "doi_match = re.search(r'\\d{2}.\\d{2}.\\d{4}', s[3])\n",
    "date_of_issue = datetime.strptime(doi_match.group(),'%d.%m.%Y').strftime('%d-%m-%Y')\n",
    "\n",
    "doe_match = re.search(r'\\d{2}.\\d{2}.\\d{4}', s[4])\n",
    "date_of_expiry = datetime.strptime(doe_match.group(),'%d.%m.%Y').strftime('%d-%m-%Y')\n",
    "\n",
    "DL = s[5]\n",
    "m = re.search('[A-Z]',DL)\n",
    "pos = (m.start())\n",
    "DL = DL[pos:pos+19]\n",
    "\n",
    "print('LastName: {}\\nFirstName: {}\\nDate of Birth: {}\\nCountry: {}\\nDate of Issue: {}\\nDate of Expiry: {}\\nDL Number: {}'.format(lastname, firstname,dob,country,date_of_issue,date_of_expiry,DL))"
   ]
  },
  {
   "cell_type": "code",
   "execution_count": null,
   "metadata": {
    "collapsed": true
   },
   "outputs": [],
   "source": []
  }
 ],
 "metadata": {
  "kernelspec": {
   "display_name": "Python 3",
   "language": "python",
   "name": "python3"
  },
  "language_info": {
   "codemirror_mode": {
    "name": "ipython",
    "version": 3
   },
   "file_extension": ".py",
   "mimetype": "text/x-python",
   "name": "python",
   "nbconvert_exporter": "python",
   "pygments_lexer": "ipython3",
   "version": "3.6.1"
  }
 },
 "nbformat": 4,
 "nbformat_minor": 2
}
