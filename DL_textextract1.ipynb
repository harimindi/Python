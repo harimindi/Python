{
 "cells": [
  {
   "cell_type": "code",
   "execution_count": 61,
   "metadata": {
    "collapsed": true
   },
   "outputs": [],
   "source": [
    "import re\n",
    "from datetime import datetime"
   ]
  },
  {
   "cell_type": "code",
   "execution_count": 91,
   "metadata": {},
   "outputs": [
    {
     "name": "stdout",
     "output_type": "stream",
     "text": [
      "9\n"
     ]
    }
   ],
   "source": [
    "s = '''i. MORGAN\n",
    "2. SARAH\n",
    "MEREDYTH\n",
    "3. 11.03.1976 UNITED KINGDOM\n",
    "4a. 19.01.2013 4c. DVLA\n",
    "4b. 18.01.2023\n",
    "5, MORGA753116SM9lJ 35\n",
    "\n",
    "'''\n",
    "print(len(s.split('\\n')))"
   ]
  },
  {
   "cell_type": "code",
   "execution_count": 85,
   "metadata": {},
   "outputs": [
    {
     "name": "stdout",
     "output_type": "stream",
     "text": [
      "['i. MORGAN\\n2. SARAH\\nMEREDYTH\\n3. 11.03.1976 UNITED KINGDOM\\n4a. 19.01.2013 4c. DVLA\\n4b. 18.01.2023\\n5, MORGA753116SM9lJ 35', ''] 2\n"
     ]
    }
   ],
   "source": [
    "s = s.split('\\n\\n',1)\n",
    "print(s, len(s))"
   ]
  },
  {
   "cell_type": "code",
   "execution_count": 89,
   "metadata": {},
   "outputs": [],
   "source": [
    "s1 = s[0]\n",
    "s2 = s[1]\n",
    "#print(s1)"
   ]
  },
  {
   "cell_type": "code",
   "execution_count": 87,
   "metadata": {},
   "outputs": [
    {
     "name": "stdout",
     "output_type": "stream",
     "text": [
      "LastName: MORGAN\n",
      "FirstName:  SARAH MEREDYTH\n"
     ]
    }
   ],
   "source": [
    "s1 = s1.splitlines()\n",
    "lastname = ''.join(re.findall('[A-Z]',s1[0]))\n",
    "if len(s1) > 2:\n",
    "    firstname = ''.join(re.findall('[A-Z\\s]',s1[1]))\n",
    "    middlename = ''.join(re.findall('[A-Z\\s]',s1[2]))\n",
    "    name = firstname + ' ' + middlename\n",
    "else:\n",
    "    name = ''.join(re.findall('[A-Z\\s]',s1[1]))\n",
    "\n",
    "print('LastName: {}\\nFirstName: {}'.format(lastname,name))"
   ]
  },
  {
   "cell_type": "code",
   "execution_count": 90,
   "metadata": {},
   "outputs": [
    {
     "name": "stdout",
     "output_type": "stream",
     "text": [
      "\n"
     ]
    }
   ],
   "source": [
    "print(s2)"
   ]
  },
  {
   "cell_type": "code",
   "execution_count": 88,
   "metadata": {},
   "outputs": [
    {
     "ename": "IndexError",
     "evalue": "list index out of range",
     "output_type": "error",
     "traceback": [
      "\u001b[1;31m---------------------------------------------------------------------------\u001b[0m",
      "\u001b[1;31mIndexError\u001b[0m                                Traceback (most recent call last)",
      "\u001b[1;32m<ipython-input-88-930feb9c4573>\u001b[0m in \u001b[0;36m<module>\u001b[1;34m()\u001b[0m\n\u001b[0;32m      2\u001b[0m \u001b[0ms2\u001b[0m \u001b[1;33m=\u001b[0m \u001b[0ms2\u001b[0m\u001b[1;33m.\u001b[0m\u001b[0msplitlines\u001b[0m\u001b[1;33m(\u001b[0m\u001b[1;33m)\u001b[0m\u001b[1;33m\u001b[0m\u001b[0m\n\u001b[0;32m      3\u001b[0m \u001b[1;33m\u001b[0m\u001b[0m\n\u001b[1;32m----> 4\u001b[1;33m \u001b[0mdob_match\u001b[0m \u001b[1;33m=\u001b[0m \u001b[0mre\u001b[0m\u001b[1;33m.\u001b[0m\u001b[0msearch\u001b[0m\u001b[1;33m(\u001b[0m\u001b[1;34mr'\\d{2}.\\d{2}.\\d{4}'\u001b[0m\u001b[1;33m,\u001b[0m \u001b[0ms2\u001b[0m\u001b[1;33m[\u001b[0m\u001b[1;36m0\u001b[0m\u001b[1;33m]\u001b[0m\u001b[1;33m)\u001b[0m\u001b[1;33m\u001b[0m\u001b[0m\n\u001b[0m\u001b[0;32m      5\u001b[0m \u001b[0mdob\u001b[0m \u001b[1;33m=\u001b[0m \u001b[0mdatetime\u001b[0m\u001b[1;33m.\u001b[0m\u001b[0mstrptime\u001b[0m\u001b[1;33m(\u001b[0m\u001b[0mdob_match\u001b[0m\u001b[1;33m.\u001b[0m\u001b[0mgroup\u001b[0m\u001b[1;33m(\u001b[0m\u001b[1;33m)\u001b[0m\u001b[1;33m,\u001b[0m \u001b[1;34m'%d.%m.%Y'\u001b[0m\u001b[1;33m)\u001b[0m\u001b[1;33m.\u001b[0m\u001b[0mstrftime\u001b[0m\u001b[1;33m(\u001b[0m\u001b[1;34m'%d-%m-%Y'\u001b[0m\u001b[1;33m)\u001b[0m\u001b[1;33m\u001b[0m\u001b[0m\n\u001b[0;32m      6\u001b[0m \u001b[1;33m\u001b[0m\u001b[0m\n",
      "\u001b[1;31mIndexError\u001b[0m: list index out of range"
     ]
    }
   ],
   "source": [
    "s2 = s2.replace('\\n\\n', '\\n')\n",
    "s2 = s2.splitlines()\n",
    "\n",
    "dob_match = re.search(r'\\d{2}.\\d{2}.\\d{4}', s2[0])\n",
    "dob = datetime.strptime(dob_match.group(), '%d.%m.%Y').strftime('%d-%m-%Y')\n",
    "\n",
    "char_pos,_ = re.search('[A-Z]', s2[0]).span(0)\n",
    "country = s2[0][char_pos:]\n",
    "\n",
    "doi_match = re.search(r'\\d{2}.\\d{2}.\\d{4}', s2[1])\n",
    "date_of_issue = datetime.strptime(doi_match.group(),'%d.%m.%Y').strftime('%d-%m-%Y')\n",
    "\n",
    "doe_match = re.search(r'\\d{2}.\\d{2}.\\d{4}', s2[2])\n",
    "date_of_expiry = datetime.strptime(doe_match.group(),'%d.%m.%Y').strftime('%d-%m-%Y')\n",
    "\n",
    "DL = s2[3]\n",
    "m = re.search('[A-Z]',DL)\n",
    "pos = (m.start())\n",
    "DL = DL[pos:pos+19]\n",
    "\n",
    "print('Date of Birth: {}\\nCountry: {}\\nDate of Issue: {}\\nDate of Expiry: {}\\nDL Number: {}'.format(dob,country,\n",
    "                                                                                                   date_of_issue,date_of_expiry,\n",
    "                                                                                                   DL))"
   ]
  },
  {
   "cell_type": "code",
   "execution_count": 58,
   "metadata": {},
   "outputs": [
    {
     "name": "stdout",
     "output_type": "stream",
     "text": [
      "['3. 29.03.1955 SCOTLAND', '4a, 14.03.2017 4c. DVLA SS', '4b, 28.03.2025 ra', '5. BUCHASS3295HOOWW 95 “aes', 'a»']\n"
     ]
    }
   ],
   "source": [
    "\n",
    "print(s2)"
   ]
  },
  {
   "cell_type": "code",
   "execution_count": 62,
   "metadata": {},
   "outputs": [
    {
     "name": "stdout",
     "output_type": "stream",
     "text": [
      "29-03-1955\n"
     ]
    }
   ],
   "source": []
  },
  {
   "cell_type": "code",
   "execution_count": 63,
   "metadata": {},
   "outputs": [
    {
     "name": "stdout",
     "output_type": "stream",
     "text": [
      "SCOTLAND\n"
     ]
    }
   ],
   "source": []
  },
  {
   "cell_type": "code",
   "execution_count": 64,
   "metadata": {},
   "outputs": [
    {
     "name": "stdout",
     "output_type": "stream",
     "text": [
      "14-03-2017\n"
     ]
    }
   ],
   "source": []
  },
  {
   "cell_type": "code",
   "execution_count": 65,
   "metadata": {},
   "outputs": [
    {
     "name": "stdout",
     "output_type": "stream",
     "text": [
      "28-03-2025\n"
     ]
    }
   ],
   "source": []
  },
  {
   "cell_type": "code",
   "execution_count": 80,
   "metadata": {},
   "outputs": [
    {
     "name": "stdout",
     "output_type": "stream",
     "text": [
      "BUCHASS3295HOOWW 95\n"
     ]
    }
   ],
   "source": []
  },
  {
   "cell_type": "code",
   "execution_count": null,
   "metadata": {
    "collapsed": true
   },
   "outputs": [],
   "source": []
  }
 ],
 "metadata": {
  "kernelspec": {
   "display_name": "Python 3",
   "language": "python",
   "name": "python3"
  },
  "language_info": {
   "codemirror_mode": {
    "name": "ipython",
    "version": 3
   },
   "file_extension": ".py",
   "mimetype": "text/x-python",
   "name": "python",
   "nbconvert_exporter": "python",
   "pygments_lexer": "ipython3",
   "version": "3.6.2"
  }
 },
 "nbformat": 4,
 "nbformat_minor": 2
}
