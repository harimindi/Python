{
 "cells": [
  {
   "cell_type": "code",
   "execution_count": 44,
   "metadata": {
    "collapsed": true
   },
   "outputs": [],
   "source": [
    "import re\n",
    "from datetime import datetime"
   ]
  },
  {
   "cell_type": "code",
   "execution_count": 3,
   "metadata": {},
   "outputs": [
    {
     "name": "stdout",
     "output_type": "stream",
     "text": [
      "DRIVING LICENSE\n",
      "\n",
      "1. MORGAN\n",
      "2. SARAH\n",
      "MEREDYTH\n",
      "11.03.1976 UNITED KINGDOM\n",
      ". 19.01.2013 4c. DVLA\n",
      ". 18.01.2023\n",
      "MORGA753116SM9lJ 35\n",
      "\n",
      "Dro fie. |\n",
      "\n",
      "NOPE\n",
      "\n",
      "\n",
      "\n",
      "8 122 BURNS CRESCENT\n",
      "EDINBURGH\n",
      "EH1 9GP\n",
      "\n",
      "9. AM/A/B1/B/t/k/I/n/p/q\n"
     ]
    }
   ],
   "source": [
    "text_file = 'F:/Data_Science/Python/Programs/DL_Text.txt'\n",
    "f = open(text_file,'r')\n",
    "text = f.read()\n",
    "print(text)"
   ]
  },
  {
   "cell_type": "code",
   "execution_count": 11,
   "metadata": {},
   "outputs": [
    {
     "name": "stdout",
     "output_type": "stream",
     "text": [
      "['DRIVING LICENSE', '', '1. MORGAN', '2. SARAH', 'MEREDYTH', '11.03.1976 UNITED KINGDOM', '. 19.01.2013 4c. DVLA', '. 18.01.2023', 'MORGA753116SM9lJ 35', '', 'Dro fie. |', '', 'NOPE', '', '', '', '8 122 BURNS CRESCENT', 'EDINBURGH', 'EH1 9GP', '', '9. AM/A/B1/B/t/k/I/n/p/q']\n"
     ]
    }
   ],
   "source": [
    "textlines = text.splitlines()\n",
    "print(textlines)"
   ]
  },
  {
   "cell_type": "code",
   "execution_count": 16,
   "metadata": {},
   "outputs": [
    {
     "name": "stdout",
     "output_type": "stream",
     "text": [
      "Line-0: DRIVING LICENSE\n",
      "Line-1: \n",
      "Line-2: 1. MORGAN\n",
      "Line-3: 2. SARAH\n",
      "Line-4: MEREDYTH\n",
      "Line-5: 11.03.1976 UNITED KINGDOM\n",
      "Line-6: . 19.01.2013 4c. DVLA\n",
      "Line-7: . 18.01.2023\n",
      "Line-8: MORGA753116SM9lJ 35\n",
      "Line-1: \n",
      "Line-10: Dro fie. |\n",
      "Line-1: \n",
      "Line-12: NOPE\n",
      "Line-1: \n",
      "Line-1: \n",
      "Line-1: \n",
      "Line-16: 8 122 BURNS CRESCENT\n",
      "Line-17: EDINBURGH\n",
      "Line-18: EH1 9GP\n",
      "Line-1: \n",
      "Line-20: 9. AM/A/B1/B/t/k/I/n/p/q\n"
     ]
    }
   ],
   "source": [
    "for i in textlines:\n",
    "    print('Line-{}: {}'.format(textlines.index(i),i))\n",
    "    "
   ]
  },
  {
   "cell_type": "code",
   "execution_count": 24,
   "metadata": {},
   "outputs": [
    {
     "name": "stdout",
     "output_type": "stream",
     "text": [
      "MORGAN\n"
     ]
    }
   ],
   "source": [
    "#Get Lastname\n",
    "lastname = textlines[2]\n",
    "lastname = ''.join(re.findall('[A-Z]',lastname))\n",
    "print(lastname)"
   ]
  },
  {
   "cell_type": "code",
   "execution_count": 26,
   "metadata": {},
   "outputs": [
    {
     "name": "stdout",
     "output_type": "stream",
     "text": [
      "SARAH\n"
     ]
    }
   ],
   "source": [
    "#Get Firstname and Middlename if present\n",
    "firstname = textlines[3]\n",
    "firstname = ''.join(re.findall('[A-Z]', firstname))\n",
    "print(firstname)"
   ]
  },
  {
   "cell_type": "code",
   "execution_count": 29,
   "metadata": {},
   "outputs": [
    {
     "name": "stdout",
     "output_type": "stream",
     "text": [
      "MEREDYTH\n",
      "SARAH MEREDYTH\n"
     ]
    }
   ],
   "source": [
    "middlename = textlines[4]\n",
    "if middlename:\n",
    "    middlename = ''.join(re.findall('[A-Z]',middlename))\n",
    "    print(middlename)\n",
    "    print(firstname+' '+middlename)"
   ]
  },
  {
   "cell_type": "code",
   "execution_count": 38,
   "metadata": {},
   "outputs": [
    {
     "name": "stdout",
     "output_type": "stream",
     "text": [
      "UNITED KINGDOM\n"
     ]
    }
   ],
   "source": [
    "line3 = textlines[5]\n",
    "char_pos,_ = re.search('[A-Z]', line3).span(0)\n",
    "issuecountry = line3[char_pos:]\n",
    "print(issuecountry)"
   ]
  },
  {
   "cell_type": "code",
   "execution_count": 55,
   "metadata": {},
   "outputs": [
    {
     "name": "stdout",
     "output_type": "stream",
     "text": [
      "11-03-1976\n"
     ]
    }
   ],
   "source": [
    "match = re.search(r'\\d{2}.\\d{2}.\\d{4}', line3)\n",
    "dob = datetime.strptime(match.group(), '%d.%m.%Y').strftime('%d-%m-%Y')\n",
    "print(dob)"
   ]
  },
  {
   "cell_type": "code",
   "execution_count": 59,
   "metadata": {},
   "outputs": [
    {
     "name": "stdout",
     "output_type": "stream",
     "text": [
      ". 19.01.2013 4c. DVLA\n",
      "19-01-2013\n"
     ]
    }
   ],
   "source": [
    "line4 = textlines[6]\n",
    "print(line4)\n",
    "match = re.search(r'\\d{2}.\\d{2}.\\d{4}', line4)\n",
    "date_of_issue = datetime.strptime(match.group(),'%d.%m.%Y').strftime('%d-%m-%Y')\n",
    "print(date_of_issue)"
   ]
  },
  {
   "cell_type": "code",
   "execution_count": 61,
   "metadata": {},
   "outputs": [
    {
     "name": "stdout",
     "output_type": "stream",
     "text": [
      ". 18.01.2023\n",
      "18-01-2023\n"
     ]
    }
   ],
   "source": [
    "line5= textlines[7]\n",
    "print(line5)\n",
    "match = re.search(r'\\d{2}.\\d{2}.\\d{4}', line5)\n",
    "date_of_expiry = datetime.strptime(match.group(),'%d.%m.%Y').strftime('%d-%m-%Y')\n",
    "print(date_of_expiry)"
   ]
  },
  {
   "cell_type": "code",
   "execution_count": 63,
   "metadata": {},
   "outputs": [
    {
     "name": "stdout",
     "output_type": "stream",
     "text": [
      "MORGA753116SM9lJ 35\n"
     ]
    }
   ],
   "source": [
    "DL_number = textlines[8]\n",
    "print(DL_number)"
   ]
  },
  {
   "cell_type": "code",
   "execution_count": 64,
   "metadata": {},
   "outputs": [
    {
     "name": "stdout",
     "output_type": "stream",
     "text": [
      "8 122 BURNS CRESCENT\n"
     ]
    }
   ],
   "source": [
    "line8 = textlines[16]\n",
    "print(line8)"
   ]
  },
  {
   "cell_type": "code",
   "execution_count": null,
   "metadata": {
    "collapsed": true
   },
   "outputs": [],
   "source": []
  }
 ],
 "metadata": {
  "kernelspec": {
   "display_name": "Python 3",
   "language": "python",
   "name": "python3"
  },
  "language_info": {
   "codemirror_mode": {
    "name": "ipython",
    "version": 3
   },
   "file_extension": ".py",
   "mimetype": "text/x-python",
   "name": "python",
   "nbconvert_exporter": "python",
   "pygments_lexer": "ipython3",
   "version": "3.6.1"
  }
 },
 "nbformat": 4,
 "nbformat_minor": 2
}
