{
 "cells": [
  {
   "cell_type": "code",
   "execution_count": 81,
   "metadata": {
    "collapsed": true
   },
   "outputs": [],
   "source": [
    "#https://www.licencebureau.co.uk/driver-licence-number/"
   ]
  },
  {
   "cell_type": "code",
   "execution_count": 87,
   "metadata": {
    "collapsed": true
   },
   "outputs": [],
   "source": [
    "lname = 'ROWE'\n",
    "fname =  'JAY EDWINM'\n",
    "country = 'ENGLAND'\n",
    "dob = '27-05-1990'\n",
    "doi = '24-09-2017'\n",
    "doe = '23-09-2027'\n",
    "dl = 'ROWE9905270JE9EX'\n",
    "sex = 'M'"
   ]
  },
  {
   "cell_type": "code",
   "execution_count": 88,
   "metadata": {},
   "outputs": [
    {
     "name": "stdout",
     "output_type": "stream",
     "text": [
      "DL Matched..!\n",
      "ROWE9905270JE\n"
     ]
    }
   ],
   "source": [
    "dl_exact = ''\n",
    "if len(lname) > 4:\n",
    "    dl_exact = dl_exact + lname[0:5]\n",
    "else:\n",
    "    dl_exact = dl_exact + lname[0:4] + '9'\n",
    "\n",
    "dl_exact = dl_exact + dob[8]   #decade digit\n",
    "#month of birth\n",
    "if sex == 'M':\n",
    "    dl_exact = dl_exact + dob[3:5]\n",
    "else:\n",
    "    mon = int(dob[3:5]) + 50\n",
    "    dl_exact = dl_exact + str(mon)\n",
    "    \n",
    "dl_exact = dl_exact + dob[0:2] #date of birth\n",
    "dl_exact = dl_exact + dob[9]   #year digit from dob\n",
    "#first 2 initials of first name\n",
    "f_initials = fname.split(' ',1)\n",
    "f_initials = ''.join([word[0] for word in f_initials])\n",
    "dl_exact = dl_exact + f_initials\n",
    "\n",
    "if dl[0:13] == dl_exact:\n",
    "    print('DL Matched..!')\n",
    "else:\n",
    "    print('Incorrect DL')\n",
    "#print(f_initials)\n",
    "print(dl_exact)"
   ]
  },
  {
   "cell_type": "code",
   "execution_count": 66,
   "metadata": {},
   "outputs": [
    {
     "name": "stdout",
     "output_type": "stream",
     "text": [
      "05\n"
     ]
    }
   ],
   "source": [
    "print(dob[3:5])"
   ]
  },
  {
   "cell_type": "code",
   "execution_count": 83,
   "metadata": {},
   "outputs": [
    {
     "name": "stdout",
     "output_type": "stream",
     "text": [
      "55\n"
     ]
    }
   ],
   "source": [
    "mon = int(dob[3:5])\n",
    "print(mon+50)"
   ]
  },
  {
   "cell_type": "code",
   "execution_count": null,
   "metadata": {
    "collapsed": true
   },
   "outputs": [],
   "source": []
  }
 ],
 "metadata": {
  "kernelspec": {
   "display_name": "Python 3",
   "language": "python",
   "name": "python3"
  },
  "language_info": {
   "codemirror_mode": {
    "name": "ipython",
    "version": 3
   },
   "file_extension": ".py",
   "mimetype": "text/x-python",
   "name": "python",
   "nbconvert_exporter": "python",
   "pygments_lexer": "ipython3",
   "version": "3.6.2"
  }
 },
 "nbformat": 4,
 "nbformat_minor": 2
}
