{
 "cells": [
  {
   "cell_type": "code",
   "execution_count": 62,
   "metadata": {
    "collapsed": true
   },
   "outputs": [],
   "source": [
    "lname = 'ROWE'\n",
    "fname =  'JAY EDWINM'\n",
    "country = 'ENGLAND'\n",
    "dob = '27-05-1990'\n",
    "doi = '24-09-2017'\n",
    "doe = '23-09-2027'\n",
    "dl = 'ROWE9905270JE9EX'"
   ]
  },
  {
   "cell_type": "code",
   "execution_count": 79,
   "metadata": {},
   "outputs": [
    {
     "name": "stdout",
     "output_type": "stream",
     "text": [
      "ROWE9905270JE\n"
     ]
    }
   ],
   "source": [
    "dl_exact = ''\n",
    "if len(lname) > 4:\n",
    "    dl_exact = dl_exact + lname[0:5]\n",
    "else:\n",
    "    dl_exact = dl_exact + lname[0:4] + '9'\n",
    "\n",
    "dl_exact = dl_exact + dob[8]   #decade digit\n",
    "dl_exact = dl_exact + dob[3:5] #month of birth\n",
    "dl_exact = dl_exact + dob[0:2] #date of birth\n",
    "dl_exact = dl_exact + dob[9]   #year digit from dob\n",
    "#first 2 initials of first name\n",
    "f_initials = fname.split(' ',1)\n",
    "f_initials = ''.join([word[0] for word in f_initials])\n",
    "dl_exact = dl_exact + f_initials\n",
    "\n",
    "\n",
    "#print(f_initials)\n",
    "print(dl_exact)"
   ]
  },
  {
   "cell_type": "code",
   "execution_count": 66,
   "metadata": {},
   "outputs": [
    {
     "name": "stdout",
     "output_type": "stream",
     "text": [
      "05\n"
     ]
    }
   ],
   "source": [
    "print(dob[3:5])"
   ]
  },
  {
   "cell_type": "code",
   "execution_count": 77,
   "metadata": {},
   "outputs": [
    {
     "name": "stdout",
     "output_type": "stream",
     "text": [
      "['JAY', 'EDWINM']\n"
     ]
    }
   ],
   "source": [
    "f = fname.split(' ',1)\n",
    "print(f)"
   ]
  },
  {
   "cell_type": "code",
   "execution_count": null,
   "metadata": {
    "collapsed": true
   },
   "outputs": [],
   "source": []
  }
 ],
 "metadata": {
  "kernelspec": {
   "display_name": "Python 3",
   "language": "python",
   "name": "python3"
  },
  "language_info": {
   "codemirror_mode": {
    "name": "ipython",
    "version": 3
   },
   "file_extension": ".py",
   "mimetype": "text/x-python",
   "name": "python",
   "nbconvert_exporter": "python",
   "pygments_lexer": "ipython3",
   "version": "3.6.2"
  }
 },
 "nbformat": 4,
 "nbformat_minor": 2
}
